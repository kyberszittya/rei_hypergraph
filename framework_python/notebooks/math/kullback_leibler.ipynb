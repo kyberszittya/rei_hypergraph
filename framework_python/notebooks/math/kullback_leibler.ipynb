{
 "cells": [
  {
   "cell_type": "code",
   "execution_count": 2,
   "outputs": [],
   "source": [
    "import numpy as np\n",
    "import matplotlib.pyplot as plt\n",
    "from mpl_toolkits.mplot3d import Axes3D\n",
    "from matplotlib import cm"
   ],
   "metadata": {
    "collapsed": false,
    "pycharm": {
     "name": "#%%\n"
    }
   }
  },
  {
   "cell_type": "markdown",
   "source": [
    "## Fano graph"
   ],
   "metadata": {
    "collapsed": false,
    "pycharm": {
     "name": "#%% md\n"
    }
   }
  },
  {
   "cell_type": "code",
   "execution_count": 3,
   "outputs": [],
   "source": [
    "def fano_graph():\n",
    "    edges = []\n",
    "    # Edge def. 0-1-3\n",
    "    edges.append(np.array([\n",
    "        [0, 1, 0, 1, 0, 0, 0],\n",
    "        [1, 0, 0, 1, 0, 0, 0],\n",
    "        [0, 0, 0, 0, 0, 0, 0],\n",
    "        [1, 1, 0, 0, 0, 0, 0],\n",
    "        [0, 0, 0, 0, 0, 0, 0],\n",
    "        [0, 0, 0, 0, 0, 0, 0],\n",
    "        [0, 0, 0, 0, 0, 0, 0]\n",
    "    ]))\n",
    "    # Edge def. 1-5-6\n",
    "    edges.append(np.array([\n",
    "        [0, 0, 0, 0, 0, 0, 0],\n",
    "        [0, 0, 0, 0, 0, 1, 1],\n",
    "        [0, 0, 0, 0, 0, 0, 0],\n",
    "        [0, 0, 0, 0, 0, 0, 0],\n",
    "        [0, 0, 0, 0, 0, 0, 0],\n",
    "        [0, 1, 0, 0, 0, 0, 1],\n",
    "        [0, 1, 0, 0, 0, 1, 0]\n",
    "    ]))\n",
    "    # Edge def 2-3-5\n",
    "    edges.append(np.array([\n",
    "        [0, 0, 0, 0, 0, 0, 0],\n",
    "        [0, 0, 0, 0, 0, 0, 0],\n",
    "        [0, 0, 0, 1, 0, 1, 0],\n",
    "        [0, 0, 1, 0, 0, 1, 0],\n",
    "        [0, 0, 0, 0, 0, 0, 0],\n",
    "        [0, 0, 1, 1, 0, 0, 0],\n",
    "        [0, 0, 0, 0, 0, 0, 0]\n",
    "    ]))\n",
    "    # Edge def. 1-2-4\n",
    "    edges.append(np.array([\n",
    "        [0, 0, 0, 0, 0, 0, 0],\n",
    "        [0, 0, 1, 0, 1, 0, 0],\n",
    "        [0, 1, 0, 0, 1, 0, 0],\n",
    "        [0, 0, 0, 0, 0, 0, 0],\n",
    "        [0, 1, 1, 0, 0, 0, 0],\n",
    "        [0, 0, 0, 0, 0, 0, 0],\n",
    "        [0, 0, 0, 0, 0, 0, 0]\n",
    "    ]))\n",
    "    # Edge def. 3-4-6\n",
    "    edges.append(np.array([\n",
    "        [0, 0, 0, 0, 0, 0, 0],\n",
    "        [0, 0, 0, 0, 0, 0, 0],\n",
    "        [0, 0, 0, 0, 0, 0, 0],\n",
    "        [0, 0, 0, 0, 1, 0, 1],\n",
    "        [0, 0, 0, 1, 0, 0, 1],\n",
    "        [0, 0, 0, 0, 0, 0, 0],\n",
    "        [0, 0, 0, 1, 1, 0, 0]\n",
    "    ]))\n",
    "    # Edge def. 0-4-5\n",
    "    edges.append(np.array([\n",
    "        [0, 0, 0, 0, 1, 1, 0],\n",
    "        [0, 0, 0, 0, 0, 0, 0],\n",
    "        [0, 0, 0, 0, 0, 0, 0],\n",
    "        [0, 0, 0, 0, 0, 0, 0],\n",
    "        [1, 0, 0, 0, 0, 1, 0],\n",
    "        [1, 0, 0, 0, 1, 0, 0],\n",
    "        [0, 0, 0, 0, 0, 0, 0]\n",
    "    ]))\n",
    "    # Edge def. 0-2-6\n",
    "    edges.append(np.array([\n",
    "        [0, 0, 1, 0, 0, 0, 1],\n",
    "        [0, 0, 0, 0, 0, 0, 0],\n",
    "        [1, 0, 0, 0, 0, 0, 1],\n",
    "        [0, 0, 0, 0, 0, 0, 0],\n",
    "        [0, 0, 0, 0, 0, 0, 0],\n",
    "        [0, 0, 0, 0, 0, 0, 0],\n",
    "        [1, 0, 1, 0, 0, 0, 0]\n",
    "    ]))\n",
    "    # E-adjacency matrix\n",
    "    adj_fano = np.array(edges)\n",
    "    return adj_fano"
   ],
   "metadata": {
    "collapsed": false,
    "pycharm": {
     "name": "#%%\n"
    }
   }
  },
  {
   "cell_type": "code",
   "execution_count": 5,
   "outputs": [],
   "source": [
    "def laplacian_calc(graph_tensor):\n",
    "    D_m = np.apply_along_axis(np.sum, 2, graph_tensor, 0)\n",
    "    d = np.apply_along_axis(np.diag, 1, D_m)\n",
    "    L_m = d - graph_tensor\n",
    "    total_deg = np.sum(d)\n",
    "    return D_m, L_m, d, total_deg"
   ],
   "metadata": {
    "collapsed": false,
    "pycharm": {
     "name": "#%%\n"
    }
   }
  },
  {
   "cell_type": "code",
   "execution_count": 252,
   "outputs": [],
   "source": [
    "fano = fano_graph()\n",
    "D_m, L, d, total_deg = laplacian_calc(fano)"
   ],
   "metadata": {
    "collapsed": false,
    "pycharm": {
     "name": "#%%\n"
    }
   }
  },
  {
   "cell_type": "code",
   "execution_count": 8,
   "outputs": [
    {
     "name": "stdout",
     "output_type": "stream",
     "text": [
      "[[2 2 0 2 0 0 0]\n",
      " [0 2 0 0 0 2 2]\n",
      " [0 0 2 2 0 2 0]\n",
      " [0 2 2 0 2 0 0]\n",
      " [0 0 0 2 2 0 2]\n",
      " [2 0 0 0 2 2 0]\n",
      " [2 0 2 0 0 0 2]]\n"
     ]
    }
   ],
   "source": [
    "print(D_m)"
   ],
   "metadata": {
    "collapsed": false,
    "pycharm": {
     "name": "#%%\n"
    }
   }
  },
  {
   "cell_type": "code",
   "execution_count": 113,
   "outputs": [
    {
     "name": "stdout",
     "output_type": "stream",
     "text": [
      "[[[ 2 -1  0 -1  0  0  0]\n",
      "  [-1  2  0 -1  0  0  0]\n",
      "  [ 0  0  0  0  0  0  0]\n",
      "  [-1 -1  0  2  0  0  0]\n",
      "  [ 0  0  0  0  0  0  0]\n",
      "  [ 0  0  0  0  0  0  0]\n",
      "  [ 0  0  0  0  0  0  0]]\n",
      "\n",
      " [[ 0  0  0  0  0  0  0]\n",
      "  [ 0  2  0  0  0 -1 -1]\n",
      "  [ 0  0  0  0  0  0  0]\n",
      "  [ 0  0  0  0  0  0  0]\n",
      "  [ 0  0  0  0  0  0  0]\n",
      "  [ 0 -1  0  0  0  2 -1]\n",
      "  [ 0 -1  0  0  0 -1  2]]\n",
      "\n",
      " [[ 0  0  0  0  0  0  0]\n",
      "  [ 0  0  0  0  0  0  0]\n",
      "  [ 0  0  2 -1  0 -1  0]\n",
      "  [ 0  0 -1  2  0 -1  0]\n",
      "  [ 0  0  0  0  0  0  0]\n",
      "  [ 0  0 -1 -1  0  2  0]\n",
      "  [ 0  0  0  0  0  0  0]]\n",
      "\n",
      " [[ 0  0  0  0  0  0  0]\n",
      "  [ 0  2 -1  0 -1  0  0]\n",
      "  [ 0 -1  2  0 -1  0  0]\n",
      "  [ 0  0  0  0  0  0  0]\n",
      "  [ 0 -1 -1  0  2  0  0]\n",
      "  [ 0  0  0  0  0  0  0]\n",
      "  [ 0  0  0  0  0  0  0]]\n",
      "\n",
      " [[ 0  0  0  0  0  0  0]\n",
      "  [ 0  0  0  0  0  0  0]\n",
      "  [ 0  0  0  0  0  0  0]\n",
      "  [ 0  0  0  2 -1  0 -1]\n",
      "  [ 0  0  0 -1  2  0 -1]\n",
      "  [ 0  0  0  0  0  0  0]\n",
      "  [ 0  0  0 -1 -1  0  2]]\n",
      "\n",
      " [[ 2  0  0  0 -1 -1  0]\n",
      "  [ 0  0  0  0  0  0  0]\n",
      "  [ 0  0  0  0  0  0  0]\n",
      "  [ 0  0  0  0  0  0  0]\n",
      "  [-1  0  0  0  2 -1  0]\n",
      "  [-1  0  0  0 -1  2  0]\n",
      "  [ 0  0  0  0  0  0  0]]\n",
      "\n",
      " [[ 2  0 -1  0  0  0 -1]\n",
      "  [ 0  0  0  0  0  0  0]\n",
      "  [-1  0  2  0  0  0 -1]\n",
      "  [ 0  0  0  0  0  0  0]\n",
      "  [ 0  0  0  0  0  0  0]\n",
      "  [ 0  0  0  0  0  0  0]\n",
      "  [-1  0 -1  0  0  0  2]]]\n"
     ]
    }
   ],
   "source": [
    "print(L)"
   ],
   "metadata": {
    "collapsed": false,
    "pycharm": {
     "name": "#%%\n"
    }
   }
  },
  {
   "cell_type": "markdown",
   "source": [
    "## Utility functions"
   ],
   "metadata": {
    "collapsed": false,
    "pycharm": {
     "name": "#%% md\n"
    }
   }
  },
  {
   "cell_type": "code",
   "execution_count": 268,
   "outputs": [],
   "source": [
    "def entropy_edgewise(L_m, D_m):\n",
    "    vals = []\n",
    "    for i,e in enumerate(L_m):\n",
    "        norm_e = e/np.sum(D_m[i])\n",
    "        eigval = np.linalg.eig(norm_e)[0]\n",
    "        eigval[eigval <= 0] = 1\n",
    "        p = -np.sum(eigval*np.log2(eigval))\n",
    "        vals.append(p)\n",
    "    v = np.array(vals)\n",
    "    return np.sum(v), v"
   ],
   "metadata": {
    "collapsed": false,
    "pycharm": {
     "name": "#%%\n"
    }
   }
  },
  {
   "cell_type": "code",
   "execution_count": 263,
   "outputs": [],
   "source": [
    "def entropy_projected_laplace(L_m, D_m):\n",
    "    inv_total = 1.0/np.sum(D_m)\n",
    "    L = np.sum(L_m, axis=0) * inv_total\n",
    "    e, w = np.linalg.eig(L)\n",
    "    e[e <= 0] = 1.0\n",
    "    entropy = e*np.log2(e)\n",
    "    #entropy = np.nan_to_num(entropy)\n",
    "    return -np.sum(entropy), entropy"
   ],
   "metadata": {
    "collapsed": false,
    "pycharm": {
     "name": "#%%\n"
    }
   }
  },
  {
   "cell_type": "code",
   "execution_count": 291,
   "outputs": [],
   "source": [
    "def entropy_sum(L_m, D_m):\n",
    "    rowvise = np.sum(D_m, axis=0)\n",
    "    x = D_m*(1.0/rowvise)\n",
    "    x[x <= 0] = 1.0\n",
    "    entropy = -x*np.log2(x)\n",
    "    return np.sum(entropy), entropy"
   ],
   "metadata": {
    "collapsed": false,
    "pycharm": {
     "name": "#%%\n"
    }
   }
  },
  {
   "cell_type": "code",
   "execution_count": 316,
   "outputs": [],
   "source": [
    "def entropy_avg(L_m, D_m):\n",
    "    v = np.max(np.avg(L_m, axis=0), axis=1)\n",
    "    entropy = -v*np.log2(v)\n",
    "    return np.sum(entropy), entropy"
   ],
   "metadata": {
    "collapsed": false,
    "pycharm": {
     "name": "#%%\n"
    }
   }
  },
  {
   "cell_type": "code",
   "execution_count": 340,
   "outputs": [],
   "source": [
    "def entropy_sum_avg(L_m, D_m):\n",
    "    rowvise = np.sum(D_m, axis=0)\n",
    "    x = D_m*(1.0/rowvise)\n",
    "    x[x <= 0] = 1.0\n",
    "\n",
    "    v = np.max(np.average(L_m, axis=1), axis=1)\n",
    "    entropy_avg = -x*np.log2(x/v)\n",
    "    return np.sum(entropy_avg), entropy_avg"
   ],
   "metadata": {
    "collapsed": false,
    "pycharm": {
     "name": "#%%\n"
    }
   }
  },
  {
   "cell_type": "markdown",
   "source": [
    "## Matrices"
   ],
   "metadata": {
    "collapsed": false,
    "pycharm": {
     "name": "#%% md\n"
    }
   }
  },
  {
   "cell_type": "code",
   "execution_count": 338,
   "outputs": [],
   "source": [
    "fano = fano_graph()\n",
    "D_m, L, d, total_deg = laplacian_calc(fano)"
   ],
   "metadata": {
    "collapsed": false,
    "pycharm": {
     "name": "#%%\n"
    }
   }
  },
  {
   "cell_type": "code",
   "execution_count": 293,
   "outputs": [
    {
     "name": "stdout",
     "output_type": "stream",
     "text": [
      "42\n"
     ]
    }
   ],
   "source": [
    "total_deg = np.sum(D_m)\n",
    "print(total_deg)"
   ],
   "metadata": {
    "collapsed": false,
    "pycharm": {
     "name": "#%%\n"
    }
   }
  },
  {
   "cell_type": "code",
   "execution_count": 253,
   "outputs": [
    {
     "data": {
      "text/plain": "array([0.16666667, 0.16666667, 0.16666667, 0.16666667, 0.16666667,\n       0.16666667, 0.16666667])"
     },
     "execution_count": 253,
     "metadata": {},
     "output_type": "execute_result"
    }
   ],
   "source": [
    "1.0/np.sum(D_m, axis=1)"
   ],
   "metadata": {
    "collapsed": false,
    "pycharm": {
     "name": "#%%\n"
    }
   }
  },
  {
   "cell_type": "code",
   "execution_count": 281,
   "outputs": [
    {
     "name": "stdout",
     "output_type": "stream",
     "text": [
      "[[0.33333333 0.33333333 0.         0.33333333 0.         0.\n",
      "  0.        ]\n",
      " [0.         0.33333333 0.         0.         0.         0.33333333\n",
      "  0.33333333]\n",
      " [0.         0.         0.33333333 0.33333333 0.         0.33333333\n",
      "  0.        ]\n",
      " [0.         0.33333333 0.33333333 0.         0.33333333 0.\n",
      "  0.        ]\n",
      " [0.         0.         0.         0.33333333 0.33333333 0.\n",
      "  0.33333333]\n",
      " [0.33333333 0.         0.         0.         0.33333333 0.33333333\n",
      "  0.        ]\n",
      " [0.33333333 0.         0.33333333 0.         0.         0.\n",
      "  0.33333333]]\n"
     ]
    }
   ],
   "source": [
    "x = D_m*(1.0/np.sum(D_m, axis=1))\n",
    "print(x)"
   ],
   "metadata": {
    "collapsed": false,
    "pycharm": {
     "name": "#%%\n"
    }
   }
  },
  {
   "cell_type": "code",
   "execution_count": 133,
   "outputs": [
    {
     "name": "stdout",
     "output_type": "stream",
     "text": [
      "[[0.52832083 0.52832083 0.         0.52832083 0.         0.\n",
      "  0.        ]\n",
      " [0.         0.52832083 0.         0.         0.         0.52832083\n",
      "  0.52832083]\n",
      " [0.         0.         0.52832083 0.52832083 0.         0.52832083\n",
      "  0.        ]\n",
      " [0.         0.52832083 0.52832083 0.         0.52832083 0.\n",
      "  0.        ]\n",
      " [0.         0.         0.         0.52832083 0.52832083 0.\n",
      "  0.52832083]\n",
      " [0.52832083 0.         0.         0.         0.52832083 0.52832083\n",
      "  0.        ]\n",
      " [0.52832083 0.         0.52832083 0.         0.         0.\n",
      "  0.52832083]]\n"
     ]
    },
    {
     "name": "stderr",
     "output_type": "stream",
     "text": [
      "C:\\Users\\keret\\AppData\\Local\\Temp\\ipykernel_36892\\2465054302.py:1: RuntimeWarning: divide by zero encountered in log2\n",
      "  entropy = -x*np.log2(x)\n",
      "C:\\Users\\keret\\AppData\\Local\\Temp\\ipykernel_36892\\2465054302.py:1: RuntimeWarning: invalid value encountered in multiply\n",
      "  entropy = -x*np.log2(x)\n"
     ]
    }
   ],
   "source": [
    "entropy = -x*np.log2(x)\n",
    "entropy = np.nan_to_num(entropy)\n",
    "print(entropy)"
   ],
   "metadata": {
    "collapsed": false,
    "pycharm": {
     "name": "#%%\n"
    }
   }
  },
  {
   "cell_type": "code",
   "execution_count": 175,
   "outputs": [
    {
     "data": {
      "text/plain": "11.094737505048094"
     },
     "execution_count": 175,
     "metadata": {},
     "output_type": "execute_result"
    }
   ],
   "source": [
    "np.sum(entropy)"
   ],
   "metadata": {
    "collapsed": false,
    "pycharm": {
     "name": "#%%\n"
    }
   }
  },
  {
   "cell_type": "code",
   "execution_count": 296,
   "outputs": [
    {
     "name": "stdout",
     "output_type": "stream",
     "text": [
      "(11.094737505048094, array([[ 0.52832083,  0.52832083, -0.        ,  0.52832083, -0.        ,\n",
      "        -0.        , -0.        ],\n",
      "       [-0.        ,  0.52832083, -0.        , -0.        , -0.        ,\n",
      "         0.52832083,  0.52832083],\n",
      "       [-0.        , -0.        ,  0.52832083,  0.52832083, -0.        ,\n",
      "         0.52832083, -0.        ],\n",
      "       [-0.        ,  0.52832083,  0.52832083, -0.        ,  0.52832083,\n",
      "        -0.        , -0.        ],\n",
      "       [-0.        , -0.        , -0.        ,  0.52832083,  0.52832083,\n",
      "        -0.        ,  0.52832083],\n",
      "       [ 0.52832083, -0.        , -0.        , -0.        ,  0.52832083,\n",
      "         0.52832083, -0.        ],\n",
      "       [ 0.52832083, -0.        ,  0.52832083, -0.        , -0.        ,\n",
      "        -0.        ,  0.52832083]]))\n"
     ]
    }
   ],
   "source": [
    "print(entropy_sum(L, D_m))"
   ],
   "metadata": {
    "collapsed": false,
    "pycharm": {
     "name": "#%%\n"
    }
   }
  },
  {
   "cell_type": "code",
   "execution_count": 283,
   "outputs": [
    {
     "name": "stdout",
     "output_type": "stream",
     "text": [
      "2.584962500721156\n"
     ]
    }
   ],
   "source": [
    "entropy_projected, _ = entropy_projected_laplace(L, D_m)\n",
    "print(entropy_projected)"
   ],
   "metadata": {
    "collapsed": false,
    "pycharm": {
     "name": "#%%\n"
    }
   }
  },
  {
   "cell_type": "code",
   "execution_count": 285,
   "outputs": [
    {
     "name": "stdout",
     "output_type": "stream",
     "text": [
      "7.0000000000000115\n"
     ]
    }
   ],
   "source": [
    "entropy_edge, _ = entropy_edgewise(L, D_m)\n",
    "print(entropy_edge)"
   ],
   "metadata": {
    "collapsed": false,
    "pycharm": {
     "name": "#%%\n"
    }
   }
  },
  {
   "cell_type": "code",
   "execution_count": 341,
   "outputs": [
    {
     "name": "stdout",
     "output_type": "stream",
     "text": [
      "-inf\n"
     ]
    },
    {
     "name": "stderr",
     "output_type": "stream",
     "text": [
      "C:\\Users\\keret\\AppData\\Local\\Temp\\ipykernel_36892\\3527860020.py:7: RuntimeWarning: divide by zero encountered in divide\n",
      "  entropy_avg = -x*np.log2(x/v)\n"
     ]
    }
   ],
   "source": [
    "entropy_joint, _ = entropy_sum_avg(L, D_m)\n",
    "print(entropy_joint)"
   ],
   "metadata": {
    "collapsed": false,
    "pycharm": {
     "name": "#%%\n"
    }
   }
  },
  {
   "cell_type": "code",
   "execution_count": 328,
   "outputs": [
    {
     "data": {
      "text/plain": "<BarContainer object of 4 artists>"
     },
     "execution_count": 328,
     "metadata": {},
     "output_type": "execute_result"
    },
    {
     "data": {
      "text/plain": "<Figure size 1008x576 with 1 Axes>",
      "image/png": "[encoded data removed]"
     },
     "metadata": {
      "needs_background": "light"
     },
     "output_type": "display_data"
    }
   ],
   "source": [
    "plt.figure(figsize=(14,8))\n",
    "plt.title(\"Entropy values\")\n",
    "plt.bar(['Sum entropy', 'Projected Laplace', 'Edge-wise Laplace', 'Joint entropy'],\n",
    "        [np.sum(entropy), entropy_projected, entropy_edge, entropy_joint])"
   ],
   "metadata": {
    "collapsed": false,
    "pycharm": {
     "name": "#%%\n"
    }
   }
  },
  {
   "cell_type": "code",
   "execution_count": 329,
   "outputs": [
    {
     "name": "stdout",
     "output_type": "stream",
     "text": [
      "[[[ 2 -1  0 -1  0  0  0]\n",
      "  [-1  2  0 -1  0  0  0]\n",
      "  [ 0  0  0  0  0  0  0]\n",
      "  [-1 -1  0  2  0  0  0]\n",
      "  [ 0  0  0  0  0  0  0]\n",
      "  [ 0  0  0  0  0  0  0]\n",
      "  [ 0  0  0  0  0  0  0]]\n",
      "\n",
      " [[ 0  0  0  0  0  0  0]\n",
      "  [ 0  2  0  0  0 -1 -1]\n",
      "  [ 0  0  0  0  0  0  0]\n",
      "  [ 0  0  0  0  0  0  0]\n",
      "  [ 0  0  0  0  0  0  0]\n",
      "  [ 0 -1  0  0  0  2 -1]\n",
      "  [ 0 -1  0  0  0 -1  2]]\n",
      "\n",
      " [[ 0  0  0  0  0  0  0]\n",
      "  [ 0  0  0  0  0  0  0]\n",
      "  [ 0  0  2 -1  0 -1  0]\n",
      "  [ 0  0 -1  2  0 -1  0]\n",
      "  [ 0  0  0  0  0  0  0]\n",
      "  [ 0  0 -1 -1  0  2  0]\n",
      "  [ 0  0  0  0  0  0  0]]\n",
      "\n",
      " [[ 0  0  0  0  0  0  0]\n",
      "  [ 0  2 -1  0 -1  0  0]\n",
      "  [ 0 -1  2  0 -1  0  0]\n",
      "  [ 0  0  0  0  0  0  0]\n",
      "  [ 0 -1 -1  0  2  0  0]\n",
      "  [ 0  0  0  0  0  0  0]\n",
      "  [ 0  0  0  0  0  0  0]]\n",
      "\n",
      " [[ 0  0  0  0  0  0  0]\n",
      "  [ 0  0  0  0  0  0  0]\n",
      "  [ 0  0  0  0  0  0  0]\n",
      "  [ 0  0  0  2 -1  0 -1]\n",
      "  [ 0  0  0 -1  2  0 -1]\n",
      "  [ 0  0  0  0  0  0  0]\n",
      "  [ 0  0  0 -1 -1  0  2]]\n",
      "\n",
      " [[ 2  0  0  0 -1 -1  0]\n",
      "  [ 0  0  0  0  0  0  0]\n",
      "  [ 0  0  0  0  0  0  0]\n",
      "  [ 0  0  0  0  0  0  0]\n",
      "  [-1  0  0  0  2 -1  0]\n",
      "  [-1  0  0  0 -1  2  0]\n",
      "  [ 0  0  0  0  0  0  0]]\n",
      "\n",
      " [[ 2  0 -1  0  0  0 -1]\n",
      "  [ 0  0  0  0  0  0  0]\n",
      "  [-1  0  2  0  0  0 -1]\n",
      "  [ 0  0  0  0  0  0  0]\n",
      "  [ 0  0  0  0  0  0  0]\n",
      "  [ 0  0  0  0  0  0  0]\n",
      "  [-1  0 -1  0  0  0  2]]]\n",
      "[[2 2 0 2 0 0 0]\n",
      " [0 2 0 0 0 2 2]\n",
      " [0 0 2 2 0 2 0]\n",
      " [0 2 2 0 2 0 0]\n",
      " [0 0 0 2 2 0 2]\n",
      " [2 0 0 0 2 2 0]\n",
      " [2 0 2 0 0 0 2]]\n"
     ]
    }
   ],
   "source": [
    "print(L)\n",
    "print(D_m)"
   ],
   "metadata": {
    "collapsed": false,
    "pycharm": {
     "name": "#%%\n"
    }
   }
  },
  {
   "cell_type": "code",
   "execution_count": 315,
   "outputs": [
    {
     "data": {
      "text/plain": "1.334354528018688"
     },
     "execution_count": 315,
     "metadata": {},
     "output_type": "execute_result"
    }
   ],
   "source": [],
   "metadata": {
    "collapsed": false,
    "pycharm": {
     "name": "#%%\n"
    }
   }
  },
  {
   "cell_type": "code",
   "execution_count": 180,
   "outputs": [
    {
     "data": {
      "text/plain": "7.0000000000000115"
     },
     "execution_count": 180,
     "metadata": {},
     "output_type": "execute_result"
    }
   ],
   "source": [
    "entropy_edgewise(L, D_m)"
   ],
   "metadata": {
    "collapsed": false,
    "pycharm": {
     "name": "#%%\n"
    }
   }
  },
  {
   "cell_type": "code",
   "execution_count": 181,
   "outputs": [],
   "source": [
    "import time"
   ],
   "metadata": {
    "collapsed": false,
    "pycharm": {
     "name": "#%%\n"
    }
   }
  },
  {
   "cell_type": "code",
   "execution_count": 331,
   "outputs": [],
   "source": [
    "t1 = time.perf_counter_ns()\n",
    "entropy_sum(L, D_m)\n",
    "dt1 = (time.perf_counter_ns() - t1)/1e9\n",
    "t2 = time.perf_counter_ns()\n",
    "entropy_projected_laplace(L, D_m)\n",
    "dt2 = (time.perf_counter_ns() - t2)/1e9\n",
    "t3 = time.perf_counter_ns()\n",
    "entropy_edgewise(L, D_m)\n",
    "dt3 = (time.perf_counter_ns() - t3)/1e9\n",
    "t4 = time.perf_counter_ns()\n",
    "entropy_sum_avg(L, D_m)\n",
    "dt4 = (time.perf_counter_ns() - t3)/1e9"
   ],
   "metadata": {
    "collapsed": false,
    "pycharm": {
     "name": "#%%\n"
    }
   }
  },
  {
   "cell_type": "code",
   "execution_count": 332,
   "outputs": [
    {
     "data": {
      "text/plain": "<BarContainer object of 4 artists>"
     },
     "execution_count": 332,
     "metadata": {},
     "output_type": "execute_result"
    },
    {
     "data": {
      "text/plain": "<Figure size 1008x576 with 1 Axes>",
      "image/png": "[encoded data removed]"
     },
     "metadata": {
      "needs_background": "light"
     },
     "output_type": "display_data"
    }
   ],
   "source": [
    "plt.figure(figsize=(14,8))\n",
    "plt.title(\"Time computation\")\n",
    "plt.bar(['Sum entropy', 'Projected Laplace', 'Edge-wise Laplace', 'Joint sum-avg'],\n",
    "        [dt1, dt2, dt3, dt4])"
   ],
   "metadata": {
    "collapsed": false,
    "pycharm": {
     "name": "#%%\n"
    }
   }
  },
  {
   "cell_type": "markdown",
   "source": [
    "## Many nodes"
   ],
   "metadata": {
    "collapsed": false,
    "pycharm": {
     "name": "#%% md\n"
    }
   }
  },
  {
   "cell_type": "code",
   "execution_count": 333,
   "outputs": [],
   "source": [
    "def generate_matrix(n: int, e: int, v_min: int, v_max: int, seed: int):\n",
    "    np.random.seed(seed)\n",
    "    cnt_edge = e\n",
    "    edge_tensor = []\n",
    "    cnt_nodes = n\n",
    "    for e in range(cnt_edge):\n",
    "        x = np.random.randint(v_min, v_max, size=(cnt_nodes,cnt_nodes))\n",
    "        x[x < 0] = 0\n",
    "        sym_x = (x + x.T)\n",
    "        np.fill_diagonal(sym_x, 0)\n",
    "        edge_tensor.append(sym_x)\n",
    "    graph_tensor = np.array(edge_tensor)\n",
    "    return graph_tensor"
   ],
   "metadata": {
    "collapsed": false,
    "pycharm": {
     "name": "#%%\n"
    }
   }
  },
  {
   "cell_type": "code",
   "execution_count": null,
   "outputs": [],
   "source": [
    "def calc_metrics():\n",
    "   return"
   ],
   "metadata": {
    "collapsed": false,
    "pycharm": {
     "name": "#%%\n"
    }
   }
  },
  {
   "cell_type": "code",
   "execution_count": 335,
   "outputs": [
    {
     "ename": "ValueError",
     "evalue": "operands could not be broadcast together with shapes (5,4) (7,) ",
     "output_type": "error",
     "traceback": [
      "\u001B[1;31m---------------------------------------------------------------------------\u001B[0m",
      "\u001B[1;31mValueError\u001B[0m                                Traceback (most recent call last)",
      "Input \u001B[1;32mIn [335]\u001B[0m, in \u001B[0;36m<cell line: 13>\u001B[1;34m()\u001B[0m\n\u001B[0;32m     17\u001B[0m v_entropy_edgewise, entropy_ew \u001B[38;5;241m=\u001B[39m entropy_edgewise(L_m, D_m)\n\u001B[0;32m     18\u001B[0m v_entropy_laplace, entropy_laplace \u001B[38;5;241m=\u001B[39m entropy_projected_laplace(L_m, D_m)\n\u001B[1;32m---> 19\u001B[0m v_entropy_joint, entropy_joint \u001B[38;5;241m=\u001B[39m \u001B[43mentropy_sum_avg\u001B[49m\u001B[43m(\u001B[49m\u001B[43mL\u001B[49m\u001B[43m,\u001B[49m\u001B[43m \u001B[49m\u001B[43mD_m\u001B[49m\u001B[43m)\u001B[49m\n\u001B[0;32m     20\u001B[0m XX\u001B[38;5;241m.\u001B[39mappend(entropy_approx)\n\u001B[0;32m     21\u001B[0m XX2\u001B[38;5;241m.\u001B[39mappend(entropy_ew)\n",
      "Input \u001B[1;32mIn [324]\u001B[0m, in \u001B[0;36mentropy_sum_avg\u001B[1;34m(L_m, D_m)\u001B[0m\n\u001B[0;32m      4\u001B[0m x[x \u001B[38;5;241m<\u001B[39m\u001B[38;5;241m=\u001B[39m \u001B[38;5;241m0\u001B[39m] \u001B[38;5;241m=\u001B[39m \u001B[38;5;241m1.0\u001B[39m\n\u001B[0;32m      6\u001B[0m v \u001B[38;5;241m=\u001B[39m np\u001B[38;5;241m.\u001B[39mmax(np\u001B[38;5;241m.\u001B[39maverage(L_m, axis\u001B[38;5;241m=\u001B[39m\u001B[38;5;241m0\u001B[39m), axis\u001B[38;5;241m=\u001B[39m\u001B[38;5;241m1\u001B[39m)\n\u001B[1;32m----> 7\u001B[0m entropy_avg \u001B[38;5;241m=\u001B[39m \u001B[38;5;241m-\u001B[39mx\u001B[38;5;241m*\u001B[39mnp\u001B[38;5;241m.\u001B[39mlog2(\u001B[43mx\u001B[49m\u001B[38;5;241;43m/\u001B[39;49m\u001B[43mv\u001B[49m)\n\u001B[0;32m      8\u001B[0m \u001B[38;5;28;01mreturn\u001B[39;00m np\u001B[38;5;241m.\u001B[39msum(entropy_avg), entropy_avg,\n",
      "\u001B[1;31mValueError\u001B[0m: operands could not be broadcast together with shapes (5,4) (7,) "
     ]
    }
   ],
   "source": [
    "cnt_n = 4\n",
    "cnt_e = 5\n",
    "XX = []\n",
    "XX2 = []\n",
    "XX3 = []\n",
    "XX4 = []\n",
    "cnt = 4\n",
    "offset = 0\n",
    "offset_max = 310\n",
    "padding = 2\n",
    "tensors = []\n",
    "eigvals = []\n",
    "for i in np.linspace(offset, offset_max, cnt):\n",
    "    tensor = generate_matrix(cnt_n, cnt_e, i + offset, i - offset + padding, seed=17)\n",
    "    D_m, L_m, d, total_deg = laplacian_calc(tensor)\n",
    "    v_entropy_approx, entropy_approx = entropy_sum(L_m, D_m)\n",
    "    v_entropy_edgewise, entropy_ew = entropy_edgewise(L_m, D_m)\n",
    "    v_entropy_laplace, entropy_laplace = entropy_projected_laplace(L_m, D_m)\n",
    "    v_entropy_joint, entropy_joint = entropy_sum_avg(L, D_m)\n",
    "    XX.append(entropy_approx)\n",
    "    XX2.append(entropy_ew)\n",
    "    XX3.append(entropy_laplace)\n",
    "    XX4.append(entropy_joint)\n",
    "    #print(approx_entropy, approx_analytical)\n",
    "    tensors.append(tensor)\n",
    "    eigvals.append([np.sum(entropy_approx), np.sum(entropy_ew), np.sum(entropy_laplace), np.sum(entropy_joint)])\n",
    "Z_approx = np.array(XX)\n",
    "Z_analytical = np.array(XX2)\n",
    "Z_laplace = np.array(XX3)\n",
    "Z_joint = np.array(XX4)"
   ],
   "metadata": {
    "collapsed": false,
    "pycharm": {
     "name": "#%%\n"
    }
   }
  },
  {
   "cell_type": "code",
   "execution_count": 299,
   "outputs": [
    {
     "ename": "NameError",
     "evalue": "name 'times' is not defined",
     "output_type": "error",
     "traceback": [
      "\u001B[1;31m---------------------------------------------------------------------------\u001B[0m",
      "\u001B[1;31mNameError\u001B[0m                                 Traceback (most recent call last)",
      "Input \u001B[1;32mIn [299]\u001B[0m, in \u001B[0;36m<cell line: 6>\u001B[1;34m()\u001B[0m\n\u001B[0;32m      4\u001B[0m ax\u001B[38;5;241m.\u001B[39mlegend([\u001B[38;5;124m\"\u001B[39m\u001B[38;5;124mSum approx\u001B[39m\u001B[38;5;124m\"\u001B[39m, \u001B[38;5;124m\"\u001B[39m\u001B[38;5;124mEdge-wise calc\u001B[39m\u001B[38;5;124m\"\u001B[39m, \u001B[38;5;124m\"\u001B[39m\u001B[38;5;124mProjected Laplacian calc\u001B[39m\u001B[38;5;124m\"\u001B[39m])\n\u001B[0;32m      5\u001B[0m ax \u001B[38;5;241m=\u001B[39m fig\u001B[38;5;241m.\u001B[39madd_subplot(\u001B[38;5;241m1\u001B[39m,\u001B[38;5;241m2\u001B[39m,\u001B[38;5;241m2\u001B[39m)\n\u001B[1;32m----> 6\u001B[0m ax\u001B[38;5;241m.\u001B[39mplot(np\u001B[38;5;241m.\u001B[39marray(\u001B[43mtimes\u001B[49m)\u001B[38;5;241m/\u001B[39m\u001B[38;5;241m1e9\u001B[39m)\n\u001B[0;32m      7\u001B[0m ax\u001B[38;5;241m.\u001B[39mlegend([\u001B[38;5;124m\"\u001B[39m\u001B[38;5;124mSum approx\u001B[39m\u001B[38;5;124m\"\u001B[39m, \u001B[38;5;124m\"\u001B[39m\u001B[38;5;124mEdge-wise calc\u001B[39m\u001B[38;5;124m\"\u001B[39m, \u001B[38;5;124m\"\u001B[39m\u001B[38;5;124mProjected Laplacian calc\u001B[39m\u001B[38;5;124m\"\u001B[39m])\n",
      "\u001B[1;31mNameError\u001B[0m: name 'times' is not defined"
     ]
    },
    {
     "data": {
      "text/plain": "<Figure size 1008x1008 with 2 Axes>",
      "image/png": "[encoded data removed]"
     },
     "metadata": {
      "needs_background": "light"
     },
     "output_type": "display_data"
    }
   ],
   "source": [
    "fig = plt.figure(figsize=(14,14))\n",
    "ax = fig.add_subplot(1,2,1)\n",
    "ax.plot(np.array(eigvals))\n",
    "ax.legend([\"Sum approx\", \"Edge-wise calc\", \"Projected Laplacian calc\"])\n",
    "ax = fig.add_subplot(1,2,2)\n",
    "ax.plot(np.array(times)/1e9)\n",
    "ax.legend([\"Sum approx\", \"Edge-wise calc\", \"Projected Laplacian calc\"])"
   ],
   "metadata": {
    "collapsed": false,
    "pycharm": {
     "name": "#%%\n"
    }
   }
  },
  {
   "cell_type": "code",
   "execution_count": null,
   "outputs": [],
   "source": [],
   "metadata": {
    "collapsed": false,
    "pycharm": {
     "name": "#%%\n"
    }
   }
  }
 ],
 "metadata": {
  "kernelspec": {
   "display_name": "Python 3",
   "language": "python",
   "name": "python3"
  },
  "language_info": {
   "codemirror_mode": {
    "name": "ipython",
    "version": 2
   },
   "file_extension": ".py",
   "mimetype": "text/x-python",
   "name": "python",
   "nbconvert_exporter": "python",
   "pygments_lexer": "ipython2",
   "version": "2.7.6"
  }
 },
 "nbformat": 4,
 "nbformat_minor": 0
}