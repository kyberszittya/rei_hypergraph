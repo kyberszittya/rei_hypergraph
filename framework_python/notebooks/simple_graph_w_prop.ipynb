{
 "cells": [
  {
   "cell_type": "code",
   "execution_count": 2,
   "outputs": [],
   "source": [
    "import numpy as np\n",
    "import matplotlib.pyplot as plt\n",
    "from matplotlib import cm"
   ],
   "metadata": {
    "collapsed": false,
    "pycharm": {
     "name": "#%%\n"
    }
   }
  },
  {
   "cell_type": "code",
   "execution_count": 3,
   "outputs": [],
   "source": [
    "from test.common.basic_graph_creation_functions import create_fano_graph, setup_test_graph_elements, create_multitree, create_simple_tree"
   ],
   "metadata": {
    "collapsed": false,
    "pycharm": {
     "name": "#%%\n"
    }
   }
  },
  {
   "cell_type": "code",
   "execution_count": 4,
   "outputs": [],
   "source": [
    "taxon, simple_tree_graph = create_simple_tree()\n",
    "fragment = setup_test_graph_elements(taxon, simple_tree_graph)"
   ],
   "metadata": {
    "collapsed": false,
    "pycharm": {
     "name": "#%%\n"
    }
   }
  },
  {
   "cell_type": "code",
   "execution_count": 5,
   "outputs": [
    {
     "data": {
      "text/plain": "array([[[1., 0., 0.],\n        [0., 1., 0.],\n        [0., 0., 0.]],\n\n       [[1., 0., 0.],\n        [0., 0., 0.],\n        [0., 0., 1.]]])"
     },
     "execution_count": 5,
     "metadata": {},
     "output_type": "execute_result"
    }
   ],
   "source": [
    "fragment.D"
   ],
   "metadata": {
    "collapsed": false,
    "pycharm": {
     "name": "#%%\n"
    }
   }
  },
  {
   "cell_type": "code",
   "execution_count": 6,
   "outputs": [
    {
     "name": "stdout",
     "output_type": "stream",
     "text": [
      "[[1. 0. 0.]\n",
      " [1. 0. 0.]]\n"
     ]
    }
   ],
   "source": [
    "d_out = np.sum(fragment.V.T, axis=2)\n",
    "print(d_out)"
   ],
   "metadata": {
    "collapsed": false,
    "pycharm": {
     "name": "#%%\n"
    }
   }
  },
  {
   "cell_type": "code",
   "execution_count": 7,
   "outputs": [
    {
     "name": "stdout",
     "output_type": "stream",
     "text": [
      "[[0. 1. 0.]\n",
      " [0. 0. 1.]]\n"
     ]
    }
   ],
   "source": [
    "d_in = np.sum(fragment.V.T, axis=1)\n",
    "print(d_in)"
   ],
   "metadata": {
    "collapsed": false,
    "pycharm": {
     "name": "#%%\n"
    }
   }
  },
  {
   "cell_type": "code",
   "execution_count": 8,
   "outputs": [
    {
     "name": "stdout",
     "output_type": "stream",
     "text": [
      "[[[0. 0. 0.]\n",
      "  [0. 1. 0.]\n",
      "  [0. 0. 0.]]\n",
      "\n",
      " [[0. 0. 0.]\n",
      "  [0. 0. 0.]\n",
      "  [0. 0. 1.]]]\n"
     ]
    }
   ],
   "source": [
    "D_in = np.apply_along_axis(np.diag, 1, d_in)\n",
    "print(D_in)"
   ],
   "metadata": {
    "collapsed": false,
    "pycharm": {
     "name": "#%%\n"
    }
   }
  },
  {
   "cell_type": "code",
   "execution_count": 9,
   "outputs": [
    {
     "name": "stdout",
     "output_type": "stream",
     "text": [
      "[[[1. 0. 0.]\n",
      "  [0. 0. 0.]\n",
      "  [0. 0. 0.]]\n",
      "\n",
      " [[1. 0. 0.]\n",
      "  [0. 0. 0.]\n",
      "  [0. 0. 0.]]]\n"
     ]
    }
   ],
   "source": [
    "D_out = np.apply_along_axis(np.diag, 1, d_out)\n",
    "print(D_out)"
   ],
   "metadata": {
    "collapsed": false,
    "pycharm": {
     "name": "#%%\n"
    }
   }
  },
  {
   "cell_type": "code",
   "execution_count": 10,
   "outputs": [],
   "source": [
    "D = D_out + D_in"
   ],
   "metadata": {
    "collapsed": false,
    "pycharm": {
     "name": "#%%\n"
    }
   }
  },
  {
   "cell_type": "code",
   "execution_count": 11,
   "outputs": [
    {
     "data": {
      "text/plain": "array([-2.,  1.,  1.])"
     },
     "execution_count": 11,
     "metadata": {},
     "output_type": "execute_result"
    }
   ],
   "source": [
    "np.tensordot(D.T, fragment.I)"
   ],
   "metadata": {
    "collapsed": false,
    "pycharm": {
     "name": "#%%\n"
    }
   }
  },
  {
   "cell_type": "markdown",
   "source": [
    "Therefore, the total degree values for each node can be calculated from the incidence and the sum of inwards and outwards degree matrices"
   ],
   "metadata": {
    "collapsed": false,
    "pycharm": {
     "name": "#%% md\n"
    }
   }
  },
  {
   "cell_type": "code",
   "execution_count": 50,
   "outputs": [
    {
     "name": "stdout",
     "output_type": "stream",
     "text": [
      "[[[ 1. -1.  0.]\n",
      "  [ 0.  1.  0.]\n",
      "  [ 0.  0.  0.]]\n",
      "\n",
      " [[ 1.  0. -1.]\n",
      "  [ 0.  0.  0.]\n",
      "  [ 0.  0.  1.]]]\n"
     ]
    },
    {
     "name": "stderr",
     "output_type": "stream",
     "text": [
      "C:\\Users\\keret\\AppData\\Local\\Temp\\ipykernel_27080\\1048695790.py:1: RuntimeWarning: divide by zero encountered in divide\n",
      "  D_in_sqrt = np.nan_to_num(1.0/(np.sqrt(fragment.D_in)), posinf=0, neginf=0)\n",
      "C:\\Users\\keret\\AppData\\Local\\Temp\\ipykernel_27080\\1048695790.py:2: RuntimeWarning: divide by zero encountered in divide\n",
      "  D_out_sqrt = np.nan_to_num(1.0/(np.sqrt(fragment.D_out)), posinf=0, neginf=0)\n",
      "C:\\Users\\keret\\AppData\\Local\\Temp\\ipykernel_27080\\1048695790.py:4: RuntimeWarning: divide by zero encountered in divide\n",
      "  D =  np.nan_to_num(1.0/(np.sqrt(fragment.D)), posinf=0, neginf=0)\n"
     ]
    }
   ],
   "source": [
    "D_in_sqrt = np.nan_to_num(1.0/(np.sqrt(fragment.D_in)), posinf=0, neginf=0)\n",
    "D_out_sqrt = np.nan_to_num(1.0/(np.sqrt(fragment.D_out)), posinf=0, neginf=0)\n",
    "\n",
    "D =  np.nan_to_num(1.0/(np.sqrt(fragment.D)), posinf=0, neginf=0)\n",
    "\n",
    "norm_ = D @ fragment.L @ D\n",
    "print(norm_)"
   ],
   "metadata": {
    "collapsed": false,
    "pycharm": {
     "name": "#%%\n"
    }
   }
  },
  {
   "cell_type": "code",
   "execution_count": 48,
   "outputs": [
    {
     "data": {
      "text/plain": "(array([[1., 1., 0.],\n        [1., 0., 1.]]),\n array([[[1.00000000e+00, 1.00000000e+00, 0.00000000e+00],\n         [0.00000000e+00, 2.22044605e-16, 0.00000000e+00],\n         [0.00000000e+00, 0.00000000e+00, 1.00000000e+00]],\n \n        [[1.00000000e+00, 0.00000000e+00, 1.00000000e+00],\n         [0.00000000e+00, 1.00000000e+00, 0.00000000e+00],\n         [0.00000000e+00, 0.00000000e+00, 2.22044605e-16]]]))"
     },
     "execution_count": 48,
     "metadata": {},
     "output_type": "execute_result"
    }
   ],
   "source": [
    "np.linalg.eig(fragment.L)"
   ],
   "metadata": {
    "collapsed": false,
    "pycharm": {
     "name": "#%%\n"
    }
   }
  },
  {
   "cell_type": "code",
   "execution_count": 51,
   "outputs": [
    {
     "data": {
      "text/plain": "1.723308333814104"
     },
     "execution_count": 51,
     "metadata": {},
     "output_type": "execute_result"
    }
   ],
   "source": [
    "B = (fragment.L @ norm_)/6\n",
    "B[B <= 0] = 1\n",
    "np.sum(B*-np.log2(B))"
   ],
   "metadata": {
    "collapsed": false,
    "pycharm": {
     "name": "#%%\n"
    }
   }
  },
  {
   "cell_type": "code",
   "execution_count": 15,
   "outputs": [
    {
     "data": {
      "text/plain": "array([[[0., 0.],\n        [0., 0.],\n        [0., 0.]],\n\n       [[1., 0.],\n        [0., 0.],\n        [0., 0.]],\n\n       [[0., 1.],\n        [0., 0.],\n        [0., 0.]]])"
     },
     "execution_count": 15,
     "metadata": {},
     "output_type": "execute_result"
    }
   ],
   "source": [
    "fragment.V"
   ],
   "metadata": {
    "collapsed": false,
    "pycharm": {
     "name": "#%%\n"
    }
   }
  },
  {
   "cell_type": "code",
   "execution_count": 16,
   "outputs": [
    {
     "data": {
      "text/plain": "array([[[ 0.,  0.,  0.],\n        [ 0.,  0.,  0.],\n        [ 0.,  0.,  0.]],\n\n       [[-1.,  1.,  0.],\n        [ 0.,  0.,  0.],\n        [ 0.,  0.,  0.]],\n\n       [[-1.,  0.,  1.],\n        [ 0.,  0.,  0.],\n        [ 0.,  0.,  0.]]])"
     },
     "execution_count": 16,
     "metadata": {},
     "output_type": "execute_result"
    }
   ],
   "source": [
    "fragment.V @ fragment.I.T"
   ],
   "metadata": {
    "collapsed": false,
    "pycharm": {
     "name": "#%%\n"
    }
   }
  },
  {
   "cell_type": "markdown",
   "source": [
    "# Fano graph"
   ],
   "metadata": {
    "collapsed": false,
    "pycharm": {
     "name": "#%% md\n"
    }
   }
  },
  {
   "cell_type": "code",
   "execution_count": 17,
   "outputs": [],
   "source": [
    "taxon, fano_graph = create_fano_graph()\n",
    "fragment_fano = setup_test_graph_elements(taxon, fano_graph)"
   ],
   "metadata": {
    "collapsed": false,
    "pycharm": {
     "name": "#%%\n"
    }
   }
  },
  {
   "cell_type": "code",
   "execution_count": 18,
   "outputs": [],
   "source": [
    "d_out = np.sum(fragment_fano.V.T, axis=2)\n",
    "D_out = np.apply_along_axis(np.diag, 1, d_out)"
   ],
   "metadata": {
    "collapsed": false,
    "pycharm": {
     "name": "#%%\n"
    }
   }
  },
  {
   "cell_type": "code",
   "execution_count": 19,
   "outputs": [],
   "source": [
    "d_in = np.sum(fragment_fano.V.T, axis=1)\n",
    "D_in = np.apply_along_axis(np.diag, 1, d_in)"
   ],
   "metadata": {
    "collapsed": false,
    "pycharm": {
     "name": "#%%\n"
    }
   }
  },
  {
   "cell_type": "code",
   "execution_count": 20,
   "outputs": [
    {
     "data": {
      "text/plain": "<Figure size 2448x2448 with 28 Axes>",
      "image/png": "[encoded data removed]"
     },
     "metadata": {
      "needs_background": "light"
     },
     "output_type": "display_data"
    }
   ],
   "source": [
    "from mpl_toolkits.axes_grid1 import ImageGrid\n",
    "fig = plt.figure(figsize=(34,34))\n",
    "grid = ImageGrid(fig, 121, nrows_ncols=(1, 7))\n",
    "for ax, im in zip(grid, D_out):\n",
    "    ax.imshow(im, cmap=cm.binary)\n",
    "grid = ImageGrid(fig, 122, nrows_ncols=(1, 7))\n",
    "for ax, im in zip(grid, D_in):\n",
    "    ax.imshow(im, cmap=cm.binary)"
   ],
   "metadata": {
    "collapsed": false,
    "pycharm": {
     "name": "#%%\n"
    }
   }
  },
  {
   "cell_type": "code",
   "execution_count": 21,
   "outputs": [],
   "source": [
    "D = (D_in + D_out)"
   ],
   "metadata": {
    "collapsed": false,
    "pycharm": {
     "name": "#%%\n"
    }
   }
  },
  {
   "cell_type": "code",
   "execution_count": 22,
   "outputs": [
    {
     "data": {
      "text/plain": "array([12., 12., 12., 12., 12., 12., 12.])"
     },
     "execution_count": 22,
     "metadata": {},
     "output_type": "execute_result"
    }
   ],
   "source": [
    "np.tensordot(D.T, fragment_fano.I)"
   ],
   "metadata": {
    "collapsed": false,
    "pycharm": {
     "name": "#%%\n"
    }
   }
  },
  {
   "cell_type": "code",
   "execution_count": 23,
   "outputs": [
    {
     "name": "stderr",
     "output_type": "stream",
     "text": [
      "C:\\Users\\keret\\AppData\\Local\\Temp\\ipykernel_27080\\655215004.py:1: RuntimeWarning: divide by zero encountered in divide\n",
      "  D_sqrt = np.nan_to_num(1.0/(np.sqrt(fragment_fano.D)), posinf=0, neginf=0)\n"
     ]
    }
   ],
   "source": [
    "D_sqrt = np.nan_to_num(1.0/(np.sqrt(fragment_fano.D)), posinf=0, neginf=0)\n"
   ],
   "metadata": {
    "collapsed": false,
    "pycharm": {
     "name": "#%%\n"
    }
   }
  },
  {
   "cell_type": "code",
   "execution_count": 24,
   "outputs": [
    {
     "name": "stdout",
     "output_type": "stream",
     "text": [
      "[[[ 1.   -0.25  0.   -0.25  0.    0.    0.  ]\n",
      "  [-0.25  1.    0.   -0.25  0.    0.    0.  ]\n",
      "  [ 0.    0.    0.    0.    0.    0.    0.  ]\n",
      "  [-0.25 -0.25  0.    1.    0.    0.    0.  ]\n",
      "  [ 0.    0.    0.    0.    0.    0.    0.  ]\n",
      "  [ 0.    0.    0.    0.    0.    0.    0.  ]\n",
      "  [ 0.    0.    0.    0.    0.    0.    0.  ]]\n",
      "\n",
      " [[ 0.    0.    0.    0.    0.    0.    0.  ]\n",
      "  [ 0.    1.    0.    0.    0.   -0.25 -0.25]\n",
      "  [ 0.    0.    0.    0.    0.    0.    0.  ]\n",
      "  [ 0.    0.    0.    0.    0.    0.    0.  ]\n",
      "  [ 0.    0.    0.    0.    0.    0.    0.  ]\n",
      "  [ 0.   -0.25  0.    0.    0.    1.   -0.25]\n",
      "  [ 0.   -0.25  0.    0.    0.   -0.25  1.  ]]\n",
      "\n",
      " [[ 0.    0.    0.    0.    0.    0.    0.  ]\n",
      "  [ 0.    0.    0.    0.    0.    0.    0.  ]\n",
      "  [ 0.    0.    1.   -0.25  0.   -0.25  0.  ]\n",
      "  [ 0.    0.   -0.25  1.    0.   -0.25  0.  ]\n",
      "  [ 0.    0.    0.    0.    0.    0.    0.  ]\n",
      "  [ 0.    0.   -0.25 -0.25  0.    1.    0.  ]\n",
      "  [ 0.    0.    0.    0.    0.    0.    0.  ]]\n",
      "\n",
      " [[ 0.    0.    0.    0.    0.    0.    0.  ]\n",
      "  [ 0.    1.   -0.25  0.   -0.25  0.    0.  ]\n",
      "  [ 0.   -0.25  1.    0.   -0.25  0.    0.  ]\n",
      "  [ 0.    0.    0.    0.    0.    0.    0.  ]\n",
      "  [ 0.   -0.25 -0.25  0.    1.    0.    0.  ]\n",
      "  [ 0.    0.    0.    0.    0.    0.    0.  ]\n",
      "  [ 0.    0.    0.    0.    0.    0.    0.  ]]\n",
      "\n",
      " [[ 0.    0.    0.    0.    0.    0.    0.  ]\n",
      "  [ 0.    0.    0.    0.    0.    0.    0.  ]\n",
      "  [ 0.    0.    0.    0.    0.    0.    0.  ]\n",
      "  [ 0.    0.    0.    1.   -0.25  0.   -0.25]\n",
      "  [ 0.    0.    0.   -0.25  1.    0.   -0.25]\n",
      "  [ 0.    0.    0.    0.    0.    0.    0.  ]\n",
      "  [ 0.    0.    0.   -0.25 -0.25  0.    1.  ]]\n",
      "\n",
      " [[ 1.    0.    0.    0.   -0.25 -0.25  0.  ]\n",
      "  [ 0.    0.    0.    0.    0.    0.    0.  ]\n",
      "  [ 0.    0.    0.    0.    0.    0.    0.  ]\n",
      "  [ 0.    0.    0.    0.    0.    0.    0.  ]\n",
      "  [-0.25  0.    0.    0.    1.   -0.25  0.  ]\n",
      "  [-0.25  0.    0.    0.   -0.25  1.    0.  ]\n",
      "  [ 0.    0.    0.    0.    0.    0.    0.  ]]\n",
      "\n",
      " [[ 1.    0.   -0.25  0.    0.    0.   -0.25]\n",
      "  [ 0.    0.    0.    0.    0.    0.    0.  ]\n",
      "  [-0.25  0.    1.    0.    0.    0.   -0.25]\n",
      "  [ 0.    0.    0.    0.    0.    0.    0.  ]\n",
      "  [ 0.    0.    0.    0.    0.    0.    0.  ]\n",
      "  [ 0.    0.    0.    0.    0.    0.    0.  ]\n",
      "  [-0.25  0.   -0.25  0.    0.    0.    1.  ]]]\n"
     ]
    }
   ],
   "source": [
    "norm_ = D_sqrt @ fragment_fano.L @ D_sqrt\n",
    "print(norm_)"
   ],
   "metadata": {
    "collapsed": false,
    "pycharm": {
     "name": "#%%\n"
    }
   }
  },
  {
   "cell_type": "code",
   "execution_count": 25,
   "outputs": [
    {
     "data": {
      "text/plain": "array([[[0.  , 0.  , 0.  , 0.  , 0.  , 0.  , 0.  ],\n        [0.25, 0.  , 0.  , 0.  , 0.  , 0.  , 0.  ],\n        [0.  , 0.  , 0.  , 0.  , 0.  , 0.  , 0.  ],\n        [0.25, 0.  , 0.  , 0.  , 0.  , 0.  , 0.  ],\n        [0.  , 0.  , 0.  , 0.  , 0.  , 0.  , 0.  ],\n        [0.  , 0.  , 0.  , 0.  , 0.  , 0.  , 0.  ],\n        [0.  , 0.  , 0.  , 0.  , 0.  , 0.  , 0.  ]],\n\n       [[0.  , 0.  , 0.  , 0.  , 0.  , 0.  , 0.  ],\n        [0.  , 0.  , 0.  , 0.  , 0.  , 0.  , 0.  ],\n        [0.  , 0.  , 0.  , 0.  , 0.  , 0.  , 0.  ],\n        [0.  , 0.  , 0.  , 0.  , 0.  , 0.  , 0.  ],\n        [0.  , 0.  , 0.  , 0.  , 0.  , 0.  , 0.  ],\n        [0.  , 0.25, 0.  , 0.  , 0.  , 0.  , 0.  ],\n        [0.  , 0.25, 0.  , 0.  , 0.  , 0.  , 0.  ]],\n\n       [[0.  , 0.  , 0.  , 0.  , 0.  , 0.  , 0.  ],\n        [0.  , 0.  , 0.  , 0.  , 0.  , 0.  , 0.  ],\n        [0.  , 0.  , 0.  , 0.  , 0.  , 0.  , 0.  ],\n        [0.  , 0.  , 0.25, 0.  , 0.  , 0.  , 0.  ],\n        [0.  , 0.  , 0.  , 0.  , 0.  , 0.  , 0.  ],\n        [0.  , 0.  , 0.25, 0.  , 0.  , 0.  , 0.  ],\n        [0.  , 0.  , 0.  , 0.  , 0.  , 0.  , 0.  ]],\n\n       [[0.  , 0.  , 0.  , 0.  , 0.  , 0.  , 0.  ],\n        [0.  , 0.  , 0.  , 0.  , 0.  , 0.  , 0.  ],\n        [0.  , 0.  , 0.25, 0.  , 0.  , 0.  , 0.  ],\n        [0.  , 0.  , 0.  , 0.  , 0.  , 0.  , 0.  ],\n        [0.  , 0.  , 0.  , 0.  , 0.25, 0.  , 0.  ],\n        [0.  , 0.  , 0.  , 0.  , 0.  , 0.  , 0.  ],\n        [0.  , 0.  , 0.  , 0.  , 0.  , 0.  , 0.  ]],\n\n       [[0.  , 0.  , 0.  , 0.  , 0.  , 0.  , 0.  ],\n        [0.  , 0.  , 0.  , 0.  , 0.  , 0.  , 0.  ],\n        [0.  , 0.  , 0.  , 0.  , 0.  , 0.  , 0.  ],\n        [0.  , 0.  , 0.  , 0.  , 0.25, 0.  , 0.  ],\n        [0.  , 0.  , 0.  , 0.  , 0.  , 0.  , 0.  ],\n        [0.  , 0.  , 0.  , 0.  , 0.  , 0.  , 0.  ],\n        [0.  , 0.  , 0.  , 0.  , 0.25, 0.  , 0.  ]],\n\n       [[0.  , 0.  , 0.  , 0.  , 0.  , 0.25, 0.  ],\n        [0.  , 0.  , 0.  , 0.  , 0.  , 0.  , 0.  ],\n        [0.  , 0.  , 0.  , 0.  , 0.  , 0.  , 0.  ],\n        [0.  , 0.  , 0.  , 0.  , 0.  , 0.  , 0.  ],\n        [0.  , 0.  , 0.  , 0.  , 0.  , 0.25, 0.  ],\n        [0.  , 0.  , 0.  , 0.  , 0.  , 0.  , 0.  ],\n        [0.  , 0.  , 0.  , 0.  , 0.  , 0.  , 0.  ]],\n\n       [[0.  , 0.  , 0.  , 0.  , 0.  , 0.  , 0.25],\n        [0.  , 0.  , 0.  , 0.  , 0.  , 0.  , 0.  ],\n        [0.  , 0.  , 0.  , 0.  , 0.  , 0.  , 0.25],\n        [0.  , 0.  , 0.  , 0.  , 0.  , 0.  , 0.  ],\n        [0.  , 0.  , 0.  , 0.  , 0.  , 0.  , 0.  ],\n        [0.  , 0.  , 0.  , 0.  , 0.  , 0.  , 0.  ],\n        [0.  , 0.  , 0.  , 0.  , 0.  , 0.  , 0.  ]]])"
     },
     "execution_count": 25,
     "metadata": {},
     "output_type": "execute_result"
    }
   ],
   "source": [
    "D_sqrt @ fragment_fano.V @ D_sqrt"
   ],
   "metadata": {
    "collapsed": false,
    "pycharm": {
     "name": "#%%\n"
    }
   }
  },
  {
   "cell_type": "code",
   "execution_count": 26,
   "outputs": [
    {
     "data": {
      "text/plain": "array([[12.,  0.,  0.,  0.,  0.,  0.,  0.],\n       [ 0., 12.,  0.,  0.,  0.,  0.,  0.],\n       [ 0.,  0., 12.,  0.,  0.,  0.,  0.],\n       [ 0.,  0.,  0., 12.,  0.,  0.,  0.],\n       [ 0.,  0.,  0.,  0., 12.,  0.,  0.],\n       [ 0.,  0.,  0.,  0.,  0., 12.,  0.],\n       [ 0.,  0.,  0.,  0.,  0.,  0., 12.]])"
     },
     "execution_count": 26,
     "metadata": {},
     "output_type": "execute_result"
    }
   ],
   "source": [
    "np.sum(fragment_fano.D, axis=0)"
   ],
   "metadata": {
    "collapsed": false,
    "pycharm": {
     "name": "#%%\n"
    }
   }
  },
  {
   "cell_type": "code",
   "execution_count": 27,
   "outputs": [
    {
     "data": {
      "text/plain": "array([[ 3.  , -0.25, -0.25, -0.25, -0.25, -0.25, -0.25],\n       [-0.25,  3.  , -0.25, -0.25, -0.25, -0.25, -0.25],\n       [-0.25, -0.25,  3.  , -0.25, -0.25, -0.25, -0.25],\n       [-0.25, -0.25, -0.25,  3.  , -0.25, -0.25, -0.25],\n       [-0.25, -0.25, -0.25, -0.25,  3.  , -0.25, -0.25],\n       [-0.25, -0.25, -0.25, -0.25, -0.25,  3.  , -0.25],\n       [-0.25, -0.25, -0.25, -0.25, -0.25, -0.25,  3.  ]])"
     },
     "execution_count": 27,
     "metadata": {},
     "output_type": "execute_result"
    }
   ],
   "source": [
    "np.sum(norm_, axis=0)"
   ],
   "metadata": {
    "collapsed": false,
    "pycharm": {
     "name": "#%%\n"
    }
   }
  },
  {
   "cell_type": "code",
   "execution_count": 28,
   "outputs": [
    {
     "data": {
      "text/plain": "array([[[ 1.  , -0.25,  0.  , -0.25,  0.  ,  0.  ,  0.  ],\n        [-0.25,  1.  ,  0.  , -0.25,  0.  ,  0.  ,  0.  ],\n        [ 0.  ,  0.  ,  0.  ,  0.  ,  0.  ,  0.  ,  0.  ],\n        [-0.25, -0.25,  0.  ,  1.  ,  0.  ,  0.  ,  0.  ],\n        [ 0.  ,  0.  ,  0.  ,  0.  ,  0.  ,  0.  ,  0.  ],\n        [ 0.  ,  0.  ,  0.  ,  0.  ,  0.  ,  0.  ,  0.  ],\n        [ 0.  ,  0.  ,  0.  ,  0.  ,  0.  ,  0.  ,  0.  ]],\n\n       [[ 0.  ,  0.  ,  0.  ,  0.  ,  0.  ,  0.  ,  0.  ],\n        [ 0.  ,  1.  ,  0.  ,  0.  ,  0.  , -0.25, -0.25],\n        [ 0.  ,  0.  ,  0.  ,  0.  ,  0.  ,  0.  ,  0.  ],\n        [ 0.  ,  0.  ,  0.  ,  0.  ,  0.  ,  0.  ,  0.  ],\n        [ 0.  ,  0.  ,  0.  ,  0.  ,  0.  ,  0.  ,  0.  ],\n        [ 0.  , -0.25,  0.  ,  0.  ,  0.  ,  1.  , -0.25],\n        [ 0.  , -0.25,  0.  ,  0.  ,  0.  , -0.25,  1.  ]],\n\n       [[ 0.  ,  0.  ,  0.  ,  0.  ,  0.  ,  0.  ,  0.  ],\n        [ 0.  ,  0.  ,  0.  ,  0.  ,  0.  ,  0.  ,  0.  ],\n        [ 0.  ,  0.  ,  1.  , -0.25,  0.  , -0.25,  0.  ],\n        [ 0.  ,  0.  , -0.25,  1.  ,  0.  , -0.25,  0.  ],\n        [ 0.  ,  0.  ,  0.  ,  0.  ,  0.  ,  0.  ,  0.  ],\n        [ 0.  ,  0.  , -0.25, -0.25,  0.  ,  1.  ,  0.  ],\n        [ 0.  ,  0.  ,  0.  ,  0.  ,  0.  ,  0.  ,  0.  ]],\n\n       [[ 0.  ,  0.  ,  0.  ,  0.  ,  0.  ,  0.  ,  0.  ],\n        [ 0.  ,  1.  , -0.25,  0.  , -0.25,  0.  ,  0.  ],\n        [ 0.  , -0.25,  1.  ,  0.  , -0.25,  0.  ,  0.  ],\n        [ 0.  ,  0.  ,  0.  ,  0.  ,  0.  ,  0.  ,  0.  ],\n        [ 0.  , -0.25, -0.25,  0.  ,  1.  ,  0.  ,  0.  ],\n        [ 0.  ,  0.  ,  0.  ,  0.  ,  0.  ,  0.  ,  0.  ],\n        [ 0.  ,  0.  ,  0.  ,  0.  ,  0.  ,  0.  ,  0.  ]],\n\n       [[ 0.  ,  0.  ,  0.  ,  0.  ,  0.  ,  0.  ,  0.  ],\n        [ 0.  ,  0.  ,  0.  ,  0.  ,  0.  ,  0.  ,  0.  ],\n        [ 0.  ,  0.  ,  0.  ,  0.  ,  0.  ,  0.  ,  0.  ],\n        [ 0.  ,  0.  ,  0.  ,  1.  , -0.25,  0.  , -0.25],\n        [ 0.  ,  0.  ,  0.  , -0.25,  1.  ,  0.  , -0.25],\n        [ 0.  ,  0.  ,  0.  ,  0.  ,  0.  ,  0.  ,  0.  ],\n        [ 0.  ,  0.  ,  0.  , -0.25, -0.25,  0.  ,  1.  ]],\n\n       [[ 1.  ,  0.  ,  0.  ,  0.  , -0.25, -0.25,  0.  ],\n        [ 0.  ,  0.  ,  0.  ,  0.  ,  0.  ,  0.  ,  0.  ],\n        [ 0.  ,  0.  ,  0.  ,  0.  ,  0.  ,  0.  ,  0.  ],\n        [ 0.  ,  0.  ,  0.  ,  0.  ,  0.  ,  0.  ,  0.  ],\n        [-0.25,  0.  ,  0.  ,  0.  ,  1.  , -0.25,  0.  ],\n        [-0.25,  0.  ,  0.  ,  0.  , -0.25,  1.  ,  0.  ],\n        [ 0.  ,  0.  ,  0.  ,  0.  ,  0.  ,  0.  ,  0.  ]],\n\n       [[ 1.  ,  0.  , -0.25,  0.  ,  0.  ,  0.  , -0.25],\n        [ 0.  ,  0.  ,  0.  ,  0.  ,  0.  ,  0.  ,  0.  ],\n        [-0.25,  0.  ,  1.  ,  0.  ,  0.  ,  0.  , -0.25],\n        [ 0.  ,  0.  ,  0.  ,  0.  ,  0.  ,  0.  ,  0.  ],\n        [ 0.  ,  0.  ,  0.  ,  0.  ,  0.  ,  0.  ,  0.  ],\n        [ 0.  ,  0.  ,  0.  ,  0.  ,  0.  ,  0.  ,  0.  ],\n        [-0.25,  0.  , -0.25,  0.  ,  0.  ,  0.  ,  1.  ]]])"
     },
     "execution_count": 28,
     "metadata": {},
     "output_type": "execute_result"
    }
   ],
   "source": [
    "norm_"
   ],
   "metadata": {
    "collapsed": false,
    "pycharm": {
     "name": "#%%\n"
    }
   }
  },
  {
   "cell_type": "code",
   "execution_count": 29,
   "outputs": [],
   "source": [
    "B = (fragment_fano.L @ norm_)/6\n",
    "B[B <= 0] = 1"
   ],
   "metadata": {
    "collapsed": false,
    "pycharm": {
     "name": "#%%\n"
    }
   }
  },
  {
   "cell_type": "code",
   "execution_count": 30,
   "outputs": [
    {
     "data": {
      "text/plain": "6.53684061364179"
     },
     "execution_count": 30,
     "metadata": {},
     "output_type": "execute_result"
    }
   ],
   "source": [
    "np.sum(B*-np.log2(B))"
   ],
   "metadata": {
    "collapsed": false,
    "pycharm": {
     "name": "#%%\n"
    }
   }
  },
  {
   "cell_type": "code",
   "execution_count": 31,
   "outputs": [],
   "source": [
    "e, v = np.linalg.eig(norm_)"
   ],
   "metadata": {
    "collapsed": false,
    "pycharm": {
     "name": "#%%\n"
    }
   }
  },
  {
   "cell_type": "code",
   "execution_count": 32,
   "outputs": [
    {
     "data": {
      "text/plain": "array([[1.25, 0.5 , 1.25, 0.  , 0.  , 0.  , 0.  ],\n       [1.25, 0.5 , 1.25, 0.  , 0.  , 0.  , 0.  ],\n       [1.25, 0.5 , 1.25, 0.  , 0.  , 0.  , 0.  ],\n       [1.25, 0.5 , 1.25, 0.  , 0.  , 0.  , 0.  ],\n       [1.25, 0.5 , 1.25, 0.  , 0.  , 0.  , 0.  ],\n       [1.25, 0.5 , 1.25, 0.  , 0.  , 0.  , 0.  ],\n       [1.25, 0.5 , 1.25, 0.  , 0.  , 0.  , 0.  ]])"
     },
     "execution_count": 32,
     "metadata": {},
     "output_type": "execute_result"
    }
   ],
   "source": [
    "e"
   ],
   "metadata": {
    "collapsed": false,
    "pycharm": {
     "name": "#%%\n"
    }
   }
  },
  {
   "cell_type": "code",
   "execution_count": 33,
   "outputs": [
    {
     "data": {
      "text/plain": "21.0"
     },
     "execution_count": 33,
     "metadata": {},
     "output_type": "execute_result"
    }
   ],
   "source": [
    "np.sum(e)"
   ],
   "metadata": {
    "collapsed": false,
    "pycharm": {
     "name": "#%%\n"
    }
   }
  },
  {
   "cell_type": "code",
   "execution_count": 34,
   "outputs": [],
   "source": [
    "L_proj = np.sum(fragment_fano.L, axis=0)\n",
    "e, v = np.linalg.eig(L_proj)"
   ],
   "metadata": {
    "collapsed": false,
    "pycharm": {
     "name": "#%%\n"
    }
   }
  },
  {
   "cell_type": "code",
   "execution_count": 35,
   "outputs": [
    {
     "data": {
      "text/plain": "83.99999999999997"
     },
     "execution_count": 35,
     "metadata": {},
     "output_type": "execute_result"
    }
   ],
   "source": [
    "np.sum(e)"
   ],
   "metadata": {
    "collapsed": false,
    "pycharm": {
     "name": "#%%\n"
    }
   }
  },
  {
   "cell_type": "code",
   "execution_count": 36,
   "outputs": [
    {
     "data": {
      "text/plain": "array([[12., -1., -1., -1., -1., -1., -1.],\n       [-1., 12., -1., -1., -1., -1., -1.],\n       [-1., -1., 12., -1., -1., -1., -1.],\n       [-1., -1., -1., 12., -1., -1., -1.],\n       [-1., -1., -1., -1., 12., -1., -1.],\n       [-1., -1., -1., -1., -1., 12., -1.],\n       [-1., -1., -1., -1., -1., -1., 12.]])"
     },
     "execution_count": 36,
     "metadata": {},
     "output_type": "execute_result"
    }
   ],
   "source": [
    "L_proj"
   ],
   "metadata": {
    "collapsed": false,
    "pycharm": {
     "name": "#%%\n"
    }
   }
  },
  {
   "cell_type": "markdown",
   "source": [
    "Good source on graph normalization: [https://www.ripublication.com/irph/ijcsm/IJCSMv3n4_2.pdf](https://www.ripublication.com/irph/ijcsm/IJCSMv3n4_2.pdf) (Spectral Technique using Normalized Adjacency Matrices for Graph Matching, Vijayalaxmi S. Shigehalli & Vidya M. Shettar)"
   ],
   "metadata": {
    "collapsed": false,
    "pycharm": {
     "name": "#%% md\n"
    }
   }
  },
  {
   "cell_type": "code",
   "execution_count": 37,
   "outputs": [],
   "source": [
    "v = fragment_fano.I @ fragment_fano.V"
   ],
   "metadata": {
    "collapsed": false,
    "pycharm": {
     "name": "#%%\n"
    }
   }
  },
  {
   "cell_type": "code",
   "execution_count": 38,
   "outputs": [
    {
     "data": {
      "text/plain": "(7, 7, 7)"
     },
     "execution_count": 38,
     "metadata": {},
     "output_type": "execute_result"
    }
   ],
   "source": [
    "v.shape"
   ],
   "metadata": {
    "collapsed": false,
    "pycharm": {
     "name": "#%%\n"
    }
   }
  },
  {
   "cell_type": "code",
   "execution_count": 39,
   "outputs": [],
   "source": [
    "_norm = (fragment_fano.I.T @ fragment_fano.V.T @ fragment_fano.I)/6"
   ],
   "metadata": {
    "collapsed": false,
    "pycharm": {
     "name": "#%%\n"
    }
   }
  },
  {
   "cell_type": "code",
   "execution_count": 40,
   "outputs": [
    {
     "data": {
      "text/plain": "array([[3., 1., 1., 1., 1., 1., 1.],\n       [1., 3., 1., 1., 1., 1., 1.],\n       [1., 1., 3., 1., 1., 1., 1.],\n       [1., 1., 1., 3., 1., 1., 1.],\n       [1., 1., 1., 1., 3., 1., 1.],\n       [1., 1., 1., 1., 1., 3., 1.],\n       [1., 1., 1., 1., 1., 1., 3.]])"
     },
     "execution_count": 40,
     "metadata": {},
     "output_type": "execute_result"
    }
   ],
   "source": [
    "np.sum(_norm, axis=1)"
   ],
   "metadata": {
    "collapsed": false,
    "pycharm": {
     "name": "#%%\n"
    }
   }
  },
  {
   "cell_type": "code",
   "execution_count": 41,
   "outputs": [
    {
     "data": {
      "text/plain": "<matplotlib.image.AxesImage at 0x2335aabe7d0>"
     },
     "execution_count": 41,
     "metadata": {},
     "output_type": "execute_result"
    },
    {
     "data": {
      "text/plain": "<Figure size 432x288 with 1 Axes>",
      "image/png": "[encoded data removed]"
     },
     "metadata": {
      "needs_background": "light"
     },
     "output_type": "display_data"
    }
   ],
   "source": [
    "plt.imshow(np.sum(_norm, axis=1))"
   ],
   "metadata": {
    "collapsed": false,
    "pycharm": {
     "name": "#%%\n"
    }
   }
  },
  {
   "cell_type": "code",
   "execution_count": 42,
   "outputs": [
    {
     "data": {
      "text/plain": "array([[[4., 0., 0., 0., 0., 0., 0.],\n        [0., 4., 0., 0., 0., 0., 0.],\n        [0., 0., 0., 0., 0., 0., 0.],\n        [0., 0., 0., 4., 0., 0., 0.],\n        [0., 0., 0., 0., 0., 0., 0.],\n        [0., 0., 0., 0., 0., 0., 0.],\n        [0., 0., 0., 0., 0., 0., 0.]],\n\n       [[0., 0., 0., 0., 0., 0., 0.],\n        [0., 4., 0., 0., 0., 0., 0.],\n        [0., 0., 0., 0., 0., 0., 0.],\n        [0., 0., 0., 0., 0., 0., 0.],\n        [0., 0., 0., 0., 0., 0., 0.],\n        [0., 0., 0., 0., 0., 4., 0.],\n        [0., 0., 0., 0., 0., 0., 4.]],\n\n       [[0., 0., 0., 0., 0., 0., 0.],\n        [0., 0., 0., 0., 0., 0., 0.],\n        [0., 0., 4., 0., 0., 0., 0.],\n        [0., 0., 0., 4., 0., 0., 0.],\n        [0., 0., 0., 0., 0., 0., 0.],\n        [0., 0., 0., 0., 0., 4., 0.],\n        [0., 0., 0., 0., 0., 0., 0.]],\n\n       [[0., 0., 0., 0., 0., 0., 0.],\n        [0., 4., 0., 0., 0., 0., 0.],\n        [0., 0., 4., 0., 0., 0., 0.],\n        [0., 0., 0., 0., 0., 0., 0.],\n        [0., 0., 0., 0., 4., 0., 0.],\n        [0., 0., 0., 0., 0., 0., 0.],\n        [0., 0., 0., 0., 0., 0., 0.]],\n\n       [[0., 0., 0., 0., 0., 0., 0.],\n        [0., 0., 0., 0., 0., 0., 0.],\n        [0., 0., 0., 0., 0., 0., 0.],\n        [0., 0., 0., 4., 0., 0., 0.],\n        [0., 0., 0., 0., 4., 0., 0.],\n        [0., 0., 0., 0., 0., 0., 0.],\n        [0., 0., 0., 0., 0., 0., 4.]],\n\n       [[4., 0., 0., 0., 0., 0., 0.],\n        [0., 0., 0., 0., 0., 0., 0.],\n        [0., 0., 0., 0., 0., 0., 0.],\n        [0., 0., 0., 0., 0., 0., 0.],\n        [0., 0., 0., 0., 4., 0., 0.],\n        [0., 0., 0., 0., 0., 4., 0.],\n        [0., 0., 0., 0., 0., 0., 0.]],\n\n       [[4., 0., 0., 0., 0., 0., 0.],\n        [0., 0., 0., 0., 0., 0., 0.],\n        [0., 0., 4., 0., 0., 0., 0.],\n        [0., 0., 0., 0., 0., 0., 0.],\n        [0., 0., 0., 0., 0., 0., 0.],\n        [0., 0., 0., 0., 0., 0., 0.],\n        [0., 0., 0., 0., 0., 0., 4.]]])"
     },
     "execution_count": 42,
     "metadata": {},
     "output_type": "execute_result"
    }
   ],
   "source": [
    "D"
   ],
   "metadata": {
    "collapsed": false,
    "pycharm": {
     "name": "#%%\n"
    }
   }
  },
  {
   "cell_type": "code",
   "execution_count": 43,
   "outputs": [
    {
     "data": {
      "text/plain": "<Figure size 2448x2448 with 14 Axes>",
      "image/png": "[encoded data removed]"
     },
     "metadata": {
      "needs_background": "light"
     },
     "output_type": "display_data"
    }
   ],
   "source": [
    "fig = plt.figure(figsize=(34,34))\n",
    "grid = ImageGrid(fig, 121, nrows_ncols=(1, 7))\n",
    "for ax, im in zip(grid, _norm):\n",
    "    ax.imshow(im, cmap=cm.binary)"
   ],
   "metadata": {
    "collapsed": false,
    "pycharm": {
     "name": "#%%\n"
    }
   }
  },
  {
   "cell_type": "code",
   "execution_count": 44,
   "outputs": [
    {
     "name": "stdout",
     "output_type": "stream",
     "text": [
      "1.0\n",
      "1.0\n",
      "1.0\n",
      "1.0\n",
      "1.0\n",
      "1.0\n",
      "1.0\n"
     ]
    }
   ],
   "source": [
    "for vi in _norm:\n",
    "    print(np.trace(vi))\n"
   ],
   "metadata": {
    "collapsed": false,
    "pycharm": {
     "name": "#%%\n"
    }
   }
  },
  {
   "cell_type": "code",
   "execution_count": 45,
   "outputs": [
    {
     "data": {
      "text/plain": "array([[2., 3., 3., 3., 3., 2., 2.],\n       [2., 2., 3., 2., 3., 3., 3.],\n       [3., 3., 2., 2., 3., 3., 2.],\n       [2., 3., 2., 3., 2., 3., 3.],\n       [3., 3., 3., 2., 2., 2., 3.],\n       [3., 2., 2., 3., 3., 2., 3.],\n       [3., 2., 3., 3., 2., 3., 2.]])"
     },
     "execution_count": 45,
     "metadata": {},
     "output_type": "execute_result"
    }
   ],
   "source": [
    "np.sum(fragment_fano.V.T @ fragment_fano.I, axis=0)"
   ],
   "metadata": {
    "collapsed": false,
    "pycharm": {
     "name": "#%%\n"
    }
   }
  },
  {
   "cell_type": "markdown",
   "source": [
    "# Calculating Degree matrix"
   ],
   "metadata": {
    "collapsed": false,
    "pycharm": {
     "name": "#%% md\n"
    }
   }
  },
  {
   "cell_type": "code",
   "execution_count": 46,
   "outputs": [
    {
     "data": {
      "text/plain": "array([ 0., -1., -1.])"
     },
     "execution_count": 46,
     "metadata": {},
     "output_type": "execute_result"
    }
   ],
   "source": [
    "np.tensordot(fragment.V, fragment.I, axes=2)"
   ],
   "metadata": {
    "collapsed": false,
    "pycharm": {
     "name": "#%%\n"
    }
   }
  },
  {
   "cell_type": "code",
   "execution_count": 46,
   "outputs": [],
   "source": [],
   "metadata": {
    "collapsed": false,
    "pycharm": {
     "name": "#%%\n"
    }
   }
  }
 ],
 "metadata": {
  "kernelspec": {
   "display_name": "Python 3",
   "language": "python",
   "name": "python3"
  },
  "language_info": {
   "codemirror_mode": {
    "name": "ipython",
    "version": 2
   },
   "file_extension": ".py",
   "mimetype": "text/x-python",
   "name": "python",
   "nbconvert_exporter": "python",
   "pygments_lexer": "ipython2",
   "version": "2.7.6"
  }
 },
 "nbformat": 4,
 "nbformat_minor": 0
}